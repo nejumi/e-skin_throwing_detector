{
 "cells": [
  {
   "cell_type": "code",
   "execution_count": 1,
   "metadata": {},
   "outputs": [
    {
     "name": "stderr",
     "output_type": "stream",
     "text": [
      "/usr/local/lib/python2.7/dist-packages/sklearn/cross_validation.py:44: DeprecationWarning: This module was deprecated in version 0.18 in favor of the model_selection module into which all the refactored classes and functions are moved. Also note that the interface of the new CV iterators are different from that of this module. This module will be removed in 0.20.\n",
      "  \"This module will be removed in 0.20.\", DeprecationWarning)\n"
     ]
    }
   ],
   "source": [
    "# import modules as usual\n",
    "import os\n",
    "import glob\n",
    "\n",
    "import numpy as np\n",
    "\n",
    "import pandas as pd\n",
    "from pandas import DataFrame, Series\n",
    "\n",
    "import matplotlib.pyplot as plt\n",
    "%matplotlib inline\n",
    "\n",
    "import seaborn as sns\n",
    "import cv2\n",
    "\n",
    "from sklearn.model_selection import StratifiedKFold\n",
    "from sklearn.metrics import roc_auc_score\n",
    "\n",
    "from xgboost import XGBClassifier"
   ]
  },
  {
   "cell_type": "code",
   "execution_count": 2,
   "metadata": {
    "collapsed": true
   },
   "outputs": [],
   "source": [
    "# path of files\n",
    "path_positive_1 = '../eskin_data/yamamoto/throw/'\n",
    "path_negative_1 = '../eskin_data/yamamoto/others/'\n",
    "\n",
    "path_positive_2 = '../eskin_data/zennra/throw/'\n",
    "path_negative_2 = '../eskin_data/zennra/others/'"
   ]
  },
  {
   "cell_type": "code",
   "execution_count": 3,
   "metadata": {
    "collapsed": true
   },
   "outputs": [],
   "source": [
    "# extract the moment of throwing based on accel values\n",
    "def extract_action(df):\n",
    "    df = df.reset_index()\n",
    "    \n",
    "    mom_action = int((np.argmax(abs(df.accelX))+ np.argmax(abs(df.accelY))+ np.argmax(abs(df.accelZ)))/3)\n",
    "    df = df.ix[mom_action-90:mom_action+90] \n",
    "    \n",
    "    df.index = df.time\n",
    "    df.drop([\"time\"], axis=1, inplace=True)\n",
    "    \n",
    "    return df.as_matrix()"
   ]
  },
  {
   "cell_type": "code",
   "execution_count": 4,
   "metadata": {
    "collapsed": true
   },
   "outputs": [],
   "source": [
    "def load_positive_data(path):\n",
    "    path = os.path.join(path, '*.csv')\n",
    "    files = glob.glob(path)\n",
    "    \n",
    "    X_positives = []\n",
    "    \n",
    "    for file_path in files:\n",
    "        df = pd.read_csv(file_path, index_col=0)\n",
    "        \n",
    "        df = extract_action(df)\n",
    "        \n",
    "        X_positives.append(df)\n",
    "        \n",
    "    X_positives = np.array(X_positives)\n",
    "    y_positives = np.ones(len(X_positives))\n",
    "        \n",
    "    return X_positives, y_positives"
   ]
  },
  {
   "cell_type": "code",
   "execution_count": 5,
   "metadata": {
    "collapsed": true
   },
   "outputs": [],
   "source": [
    "def load_negative_data(path, num_clip=100, random_state=71):\n",
    "    np.random.seed(random_state)\n",
    "    \n",
    "    path = os.path.join(path, '*.csv')\n",
    "    files = glob.glob(path)\n",
    "    \n",
    "    X_negatives = []\n",
    "    \n",
    "    for file_path in files:\n",
    "        df = pd.read_csv(file_path, index_col=0)\n",
    "        \n",
    "        for i in range(num_clip):\n",
    "            start = np.random.choice(range(len(df)-180))\n",
    "            \n",
    "            df_extracted = df.iloc[start:start+180].as_matrix()\n",
    "            X_negatives.append(df_extracted)\n",
    "        \n",
    "    X_negatives = np.array(X_negatives)\n",
    "    y_negatives = np.zeros(len(X_negatives))\n",
    "        \n",
    "    return X_negatives, y_negatives"
   ]
  },
  {
   "cell_type": "code",
   "execution_count": 6,
   "metadata": {
    "collapsed": true
   },
   "outputs": [],
   "source": [
    "def resize_matrix(X, size = (20, 20), flatten=False):\n",
    "    X_resized = []\n",
    "    \n",
    "    for i in range(len(X)):\n",
    "        X_ = X[i] /1.\n",
    "        X_ = cv2.resize(X_, size, interpolation = cv2.INTER_LINEAR)\n",
    "    \n",
    "        if flatten == True: # True for XGBoost etc., False for CNN (Convolutional Newral Networks) \n",
    "            X_ = X_.ravel()\n",
    "            \n",
    "        X_resized.append(X_)\n",
    "        \n",
    "    X_resized = np.array(X_resized)\n",
    "    \n",
    "    return X_resized"
   ]
  },
  {
   "cell_type": "code",
   "execution_count": 7,
   "metadata": {},
   "outputs": [
    {
     "name": "stderr",
     "output_type": "stream",
     "text": [
      "/usr/local/lib/python2.7/dist-packages/ipykernel_launcher.py:6: DeprecationWarning: \n",
      ".ix is deprecated. Please use\n",
      ".loc for label based indexing or\n",
      ".iloc for positional indexing\n",
      "\n",
      "See the documentation here:\n",
      "http://pandas.pydata.org/pandas-docs/stable/indexing.html#deprecate_ix\n",
      "  \n"
     ]
    },
    {
     "name": "stdout",
     "output_type": "stream",
     "text": [
      "((100, 181, 20), (100,))\n",
      "((2000, 180, 20), (2000,))\n"
     ]
    }
   ],
   "source": [
    "# １人目（山本）のモーションデータを読み込む\n",
    "X_positives_1, y_positives_1 = load_positive_data(path_positive_1)\n",
    "X_negatives_1, y_negatives_1 = load_negative_data(path_negative_1, num_clip=500)  # random 500 clops from negative data\n",
    "\n",
    "# check the shape of positive data\n",
    "print(X_positives_1.shape, y_positives_1.shape)\n",
    "\n",
    "# check the shape of negative data\n",
    "print(X_negatives_1.shape, y_negatives_1.shape)\n",
    "\n",
    "X_positives_1 = resize_matrix(X_positives_1, flatten=True)\n",
    "X_negatives_1 = resize_matrix(X_negatives_1, flatten=True)\n",
    "\n",
    "X_1 = np.concatenate((X_positives_1, X_negatives_1), axis=0)\n",
    "y_1 = np.concatenate((y_positives_1, y_negatives_1), axis=0)"
   ]
  },
  {
   "cell_type": "code",
   "execution_count": 8,
   "metadata": {},
   "outputs": [
    {
     "name": "stderr",
     "output_type": "stream",
     "text": [
      "/usr/local/lib/python2.7/dist-packages/ipykernel_launcher.py:6: DeprecationWarning: \n",
      ".ix is deprecated. Please use\n",
      ".loc for label based indexing or\n",
      ".iloc for positional indexing\n",
      "\n",
      "See the documentation here:\n",
      "http://pandas.pydata.org/pandas-docs/stable/indexing.html#deprecate_ix\n",
      "  \n"
     ]
    },
    {
     "name": "stdout",
     "output_type": "stream",
     "text": [
      "((91,), (91,))\n",
      "((1000, 180, 20), (1000,))\n"
     ]
    }
   ],
   "source": [
    "# ２人目（武井氏 aka 全裸）のモーションデータを読み込む\n",
    "X_positives_2, y_positives_2 = load_positive_data(path_positive_2)\n",
    "X_negatives_2, y_negatives_2 = load_negative_data(path_negative_2, num_clip=500)  # random 500 clops from negative data\n",
    "\n",
    "# check the shape of positive data\n",
    "print(X_positives_2.shape, y_positives_2.shape)\n",
    "\n",
    "# check the shape of negative data\n",
    "print(X_negatives_2.shape, y_negatives_2.shape)\n",
    "\n",
    "X_positives_2 = resize_matrix(X_positives_2, flatten=True)\n",
    "X_negatives_2 = resize_matrix(X_negatives_2, flatten=True)\n",
    "\n",
    "X_2 = np.concatenate((X_positives_2, X_negatives_2), axis=0)\n",
    "y_2 = np.concatenate((y_positives_2, y_negatives_2), axis=0)"
   ]
  },
  {
   "cell_type": "code",
   "execution_count": 9,
   "metadata": {},
   "outputs": [
    {
     "name": "stdout",
     "output_type": "stream",
     "text": [
      "0.983637362637\n"
     ]
    }
   ],
   "source": [
    "# 山本データで学習して、武井データに対して予測を行う。AUCは0.98とかなり良好。\n",
    "clf_xgb = XGBClassifier(base_score=0.5, colsample_bylevel=1, colsample_bytree=0.7, \n",
    "                        gamma=0, learning_rate=0.1, max_delta_step=0, max_depth=3, \n",
    "                        min_child_weight=1, missing=None, n_estimators=100, nthread=-1, \n",
    "                        objective='binary:logistic', reg_alpha=0, reg_lambda=1, \n",
    "                        scale_pos_weight=1, seed=0, silent=True, subsample=0.7)\n",
    "\n",
    "clf_xgb.fit(X_1, y_1)\n",
    "probs = clf_xgb.predict_proba(X_2)[:,1]\n",
    "score = roc_auc_score(y_2, probs)\n",
    "print(score)"
   ]
  },
  {
   "cell_type": "code",
   "execution_count": 10,
   "metadata": {},
   "outputs": [
    {
     "name": "stdout",
     "output_type": "stream",
     "text": [
      "0.838185\n"
     ]
    }
   ],
   "source": [
    "# 武井データで学習して、山本データに対して予測を行う。AUCは0.84と落ちはしたが、まぁ悪くはない。\n",
    "clf_xgb = XGBClassifier(base_score=0.5, colsample_bylevel=1, colsample_bytree=0.7, \n",
    "                        gamma=0, learning_rate=0.1, max_delta_step=0, max_depth=3, \n",
    "                        min_child_weight=1, missing=None, n_estimators=100, nthread=-1, \n",
    "                        objective='binary:logistic', reg_alpha=0, reg_lambda=1, \n",
    "                        scale_pos_weight=1, seed=0, silent=True, subsample=0.7)\n",
    "\n",
    "clf_xgb.fit(X_2, y_2)\n",
    "probs = clf_xgb.predict_proba(X_1)[:,1]\n",
    "score = roc_auc_score(y_1, probs)\n",
    "print(score)"
   ]
  },
  {
   "cell_type": "code",
   "execution_count": 11,
   "metadata": {},
   "outputs": [],
   "source": [
    "X = np.concatenate((X_1, X_2), axis=0)\n",
    "y = np.concatenate((y_1, y_2), axis=0)"
   ]
  },
  {
   "cell_type": "code",
   "execution_count": 12,
   "metadata": {
    "collapsed": true
   },
   "outputs": [],
   "source": [
    "df_ref = pd.read_csv(\"../eskin_data/yamamoto/throw/eskin131418286838246619.csv\", index_col=0)"
   ]
  },
  {
   "cell_type": "code",
   "execution_count": 13,
   "metadata": {
    "collapsed": true
   },
   "outputs": [],
   "source": [
    "clf_xgb.fit(X, y)\n",
    "\n",
    "feature_importance = clf_xgb.feature_importances_"
   ]
  },
  {
   "cell_type": "code",
   "execution_count": 14,
   "metadata": {
    "collapsed": true
   },
   "outputs": [],
   "source": [
    "df_imp = DataFrame(feature_importance.reshape(20,20), index=[str(x * 0.15) + \"_msec\" for x in range(20)], columns=df_ref.columns)"
   ]
  },
  {
   "cell_type": "code",
   "execution_count": 15,
   "metadata": {},
   "outputs": [
    {
     "data": {
      "image/png": "[encoded data removed]",
      "text/plain": [
       "<matplotlib.figure.Figure at 0x7f92167b5b50>"
      ]
     },
     "metadata": {},
     "output_type": "display_data"
    }
   ],
   "source": [
    "# show heatmap of feature importances.\n",
    "plt.figure(figsize=[20,20])\n",
    "sns.heatmap(df_imp)\n",
    "plt.show()"
   ]
  },
  {
   "cell_type": "code",
   "execution_count": null,
   "metadata": {
    "collapsed": true
   },
   "outputs": [],
   "source": []
  }
 ],
 "metadata": {
  "kernelspec": {
   "display_name": "Python 2",
   "language": "python",
   "name": "python2"
  },
  "language_info": {
   "codemirror_mode": {
    "name": "ipython",
    "version": 2
   },
   "file_extension": ".py",
   "mimetype": "text/x-python",
   "name": "python",
   "nbconvert_exporter": "python",
   "pygments_lexer": "ipython2",
   "version": "2.7.12"
  }
 },
 "nbformat": 4,
 "nbformat_minor": 2
}
